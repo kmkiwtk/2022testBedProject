{
 "cells": [
  {
   "cell_type": "code",
   "execution_count": 701,
   "metadata": {},
   "outputs": [],
   "source": [
    "import numpy as np\n",
    "import random"
   ]
  },
  {
   "cell_type": "code",
   "execution_count": 702,
   "metadata": {},
   "outputs": [],
   "source": [
    "def Manxiete(array):\n",
    "    M_myarray = []\n",
    "    for x in array:\n",
    "        if x :\n",
    "            M_myarray.append(1)\n",
    "            M_myarray.append(0)\n",
    "        else:\n",
    "            M_myarray.append(0)\n",
    "            M_myarray.append(1)\n",
    "    return M_myarray"
   ]
  },
  {
   "cell_type": "code",
   "execution_count": 703,
   "metadata": {},
   "outputs": [],
   "source": [
    "def Encode(message, p):\n",
    "    m = message.copy()\n",
    "\n",
    "    for x in p:\n",
    "        if message[x]:\n",
    "            m[x] = 0\n",
    "        else:\n",
    "            m[x] = 1\n",
    "    return m\n"
   ]
  },
  {
   "cell_type": "code",
   "execution_count": 704,
   "metadata": {},
   "outputs": [],
   "source": [
    "def elim(signal, possible, length):\n",
    "    for x in range(length):\n",
    "        if random.random() < possible:\n",
    "            signal[2*x] = 0\n",
    "            signal[2*x + 1] = 0\n",
    "    return signal\n"
   ]
  },
  {
   "cell_type": "code",
   "execution_count": 705,
   "metadata": {},
   "outputs": [],
   "source": [
    "def nor(p1, p2):\n",
    "    return list(set(p1).union(set(p2)).difference(set(p1).intersection(p2)))"
   ]
  },
  {
   "cell_type": "code",
   "execution_count": 706,
   "metadata": {},
   "outputs": [],
   "source": [
    "def Simulate(number):\n",
    "\n",
    "    #生成p1和p2\n",
    "    p1 = np.random.permutation(length)[:number]\n",
    "    p2 = np.random.permutation(length)[:number]\n",
    "    p3 = np.random.permutation(length)[:number]\n",
    "    #两个p取异或后1的位置\n",
    "    tem = nor(p1, p2)\n",
    "    tem = nor(tem, p3) \n",
    "    #0的位置\n",
    "    tmp = list(set([i for i in range(length)]).difference(tem))\n",
    "    #经过p编码之后的信息\n",
    "    m1 = Encode(myarray, p1)\n",
    "    m2 = Encode(myarray, p2)\n",
    "    m3 = Encode(myarray, p3)\n",
    "    #曼切斯特编码后的信息\n",
    "    M_encode1 = Manxiete(m1)\n",
    "    M_encode2 = Manxiete(m2)\n",
    "    M_encode3 = Manxiete(m3)\n",
    "    M_attacker = Manxiete(attacker)\n",
    "\n",
    "    #实际空中的信息\n",
    "    def add_and_detect_process(possible):\n",
    "        \n",
    "        M1_After_Elim = elim(M_encode1.copy(), possible, length)\n",
    "        M2_After_Elim = elim(M_encode2.copy(), possible, length)\n",
    "        M3_After_Elim = elim(M_encode3.copy(), possible, length)\n",
    "        real_signal = np.sum([M1_After_Elim, M2_After_Elim, M3_After_Elim, M_attacker],axis=0).tolist()\n",
    "\n",
    "        index = []\n",
    "        for x in range(length):\n",
    "            if real_signal[2*x] == real_signal[2*x + 1]:\n",
    "                index.append(x)\n",
    "        #p做异或后0与连续为1位置的交集\n",
    "        return len(list(set(tmp).intersection(set(index))))\n",
    "    count = 0\n",
    "    for x in range(10000):\n",
    "        if add_and_detect_process(random.uniform(0.8,0.875)) > 0:\n",
    "            count = count + 1\n",
    "    return count/10000"
   ]
  },
  {
   "cell_type": "code",
   "execution_count": 707,
   "metadata": {},
   "outputs": [],
   "source": [
    "result = []\n",
    "length = 160\n",
    "#消息\n",
    "myarray= np.random.randint(0,2,length)\n",
    "attacker = np.random.randint(0,2,length)\n",
    "for x in range(51):\n",
    "    y = Simulate(x)\n",
    "    result.append(y)"
   ]
  },
  {
   "cell_type": "code",
   "execution_count": 708,
   "metadata": {},
   "outputs": [
    {
     "name": "stdout",
     "output_type": "stream",
     "text": [
      "[1.0, 1.0, 1.0, 1.0, 1.0, 1.0, 1.0, 1.0, 1.0, 1.0, 1.0, 1.0, 1.0, 1.0, 1.0, 1.0, 1.0, 1.0, 1.0, 1.0, 1.0, 1.0, 1.0, 1.0, 1.0, 1.0, 1.0, 1.0, 1.0, 1.0, 1.0, 1.0, 1.0, 1.0, 1.0, 1.0, 1.0, 1.0, 1.0, 1.0, 1.0, 1.0, 1.0, 1.0, 1.0, 1.0, 1.0, 1.0, 1.0, 1.0, 1.0]\n"
     ]
    }
   ],
   "source": [
    "print(result)"
   ]
  },
  {
   "cell_type": "code",
   "execution_count": 715,
   "metadata": {},
   "outputs": [
    {
     "name": "stdout",
     "output_type": "stream",
     "text": [
      "[35, 39, 14, 52, 21, 89, 157, 30]\n",
      "[32, 35, 14, 52, 21, 24, 89, 122, 157, 30]\n"
     ]
    }
   ],
   "source": [
    "p1 = np.random.permutation(length)[:4]\n",
    "p2 = np.random.permutation(length)[:4]\n",
    "p3 = np.random.permutation(length)[:4]\n",
    "tem = nor(p1, p2)\n",
    "tmp = nor(tem, p3) \n",
    "print(tem)\n",
    "print(tmp)"
   ]
  },
  {
   "cell_type": "code",
   "execution_count": null,
   "metadata": {},
   "outputs": [],
   "source": []
  }
 ],
 "metadata": {
  "kernelspec": {
   "display_name": "Python 3.9.13 64-bit",
   "language": "python",
   "name": "python3"
  },
  "language_info": {
   "codemirror_mode": {
    "name": "ipython",
    "version": 3
   },
   "file_extension": ".py",
   "mimetype": "text/x-python",
   "name": "python",
   "nbconvert_exporter": "python",
   "pygments_lexer": "ipython3",
   "version": "3.9.13"
  },
  "orig_nbformat": 4,
  "vscode": {
   "interpreter": {
    "hash": "aee8b7b246df8f9039afb4144a1f6fd8d2ca17a180786b69acc140d282b71a49"
   }
  }
 },
 "nbformat": 4,
 "nbformat_minor": 2
}
